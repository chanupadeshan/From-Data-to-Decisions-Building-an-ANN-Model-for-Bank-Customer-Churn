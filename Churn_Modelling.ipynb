{
 "cells": [
  {
   "cell_type": "code",
   "execution_count": 1,
   "metadata": {
    "id": "RAxmZyk6HRIP"
   },
   "outputs": [],
   "source": [
    "import numpy  as np\n",
    "import pandas as pd\n",
    "import tensorflow as tf"
   ]
  },
  {
   "cell_type": "code",
   "execution_count": 2,
   "metadata": {
    "colab": {
     "base_uri": "https://localhost:8080/",
     "height": 35
    },
    "executionInfo": {
     "elapsed": 7,
     "status": "ok",
     "timestamp": 1736168011297,
     "user": {
      "displayName": "chanupa deshan",
      "userId": "01182630527296795815"
     },
     "user_tz": -330
    },
    "id": "TMYu8dBiJ50P",
    "outputId": "7c8fbe89-e876-4a48-a958-edd714a488a2"
   },
   "outputs": [
    {
     "data": {
      "text/plain": [
       "'2.10.1'"
      ]
     },
     "execution_count": 2,
     "metadata": {},
     "output_type": "execute_result"
    }
   ],
   "source": [
    "tf.__version__"
   ]
  },
  {
   "cell_type": "markdown",
   "metadata": {
    "id": "y2EEU66jLXMc"
   },
   "source": [
    "# Import the dataset"
   ]
  },
  {
   "cell_type": "code",
   "execution_count": 3,
   "metadata": {
    "id": "ZivwMAGgJ9hc"
   },
   "outputs": [],
   "source": [
    "data = pd.read_csv('Churn_Modelling.csv')"
   ]
  },
  {
   "cell_type": "code",
   "execution_count": 4,
   "metadata": {
    "colab": {
     "base_uri": "https://localhost:8080/",
     "height": 226
    },
    "executionInfo": {
     "elapsed": 6,
     "status": "ok",
     "timestamp": 1736168011298,
     "user": {
      "displayName": "chanupa deshan",
      "userId": "01182630527296795815"
     },
     "user_tz": -330
    },
    "id": "Sa87Fr4RKCxN",
    "outputId": "f4be531a-5f30-4956-c210-0275dbcd356a"
   },
   "outputs": [
    {
     "data": {
      "text/html": [
       "<div>\n",
       "<style scoped>\n",
       "    .dataframe tbody tr th:only-of-type {\n",
       "        vertical-align: middle;\n",
       "    }\n",
       "\n",
       "    .dataframe tbody tr th {\n",
       "        vertical-align: top;\n",
       "    }\n",
       "\n",
       "    .dataframe thead th {\n",
       "        text-align: right;\n",
       "    }\n",
       "</style>\n",
       "<table border=\"1\" class=\"dataframe\">\n",
       "  <thead>\n",
       "    <tr style=\"text-align: right;\">\n",
       "      <th></th>\n",
       "      <th>RowNumber</th>\n",
       "      <th>CustomerId</th>\n",
       "      <th>Surname</th>\n",
       "      <th>CreditScore</th>\n",
       "      <th>Geography</th>\n",
       "      <th>Gender</th>\n",
       "      <th>Age</th>\n",
       "      <th>Tenure</th>\n",
       "      <th>Balance</th>\n",
       "      <th>NumOfProducts</th>\n",
       "      <th>HasCrCard</th>\n",
       "      <th>IsActiveMember</th>\n",
       "      <th>EstimatedSalary</th>\n",
       "      <th>Exited</th>\n",
       "    </tr>\n",
       "  </thead>\n",
       "  <tbody>\n",
       "    <tr>\n",
       "      <th>0</th>\n",
       "      <td>1</td>\n",
       "      <td>15634602</td>\n",
       "      <td>Hargrave</td>\n",
       "      <td>619</td>\n",
       "      <td>France</td>\n",
       "      <td>Female</td>\n",
       "      <td>42</td>\n",
       "      <td>2</td>\n",
       "      <td>0.00</td>\n",
       "      <td>1</td>\n",
       "      <td>1</td>\n",
       "      <td>1</td>\n",
       "      <td>101348.88</td>\n",
       "      <td>1</td>\n",
       "    </tr>\n",
       "    <tr>\n",
       "      <th>1</th>\n",
       "      <td>2</td>\n",
       "      <td>15647311</td>\n",
       "      <td>Hill</td>\n",
       "      <td>608</td>\n",
       "      <td>Spain</td>\n",
       "      <td>Female</td>\n",
       "      <td>41</td>\n",
       "      <td>1</td>\n",
       "      <td>83807.86</td>\n",
       "      <td>1</td>\n",
       "      <td>0</td>\n",
       "      <td>1</td>\n",
       "      <td>112542.58</td>\n",
       "      <td>0</td>\n",
       "    </tr>\n",
       "    <tr>\n",
       "      <th>2</th>\n",
       "      <td>3</td>\n",
       "      <td>15619304</td>\n",
       "      <td>Onio</td>\n",
       "      <td>502</td>\n",
       "      <td>France</td>\n",
       "      <td>Female</td>\n",
       "      <td>42</td>\n",
       "      <td>8</td>\n",
       "      <td>159660.80</td>\n",
       "      <td>3</td>\n",
       "      <td>1</td>\n",
       "      <td>0</td>\n",
       "      <td>113931.57</td>\n",
       "      <td>1</td>\n",
       "    </tr>\n",
       "    <tr>\n",
       "      <th>3</th>\n",
       "      <td>4</td>\n",
       "      <td>15701354</td>\n",
       "      <td>Boni</td>\n",
       "      <td>699</td>\n",
       "      <td>France</td>\n",
       "      <td>Female</td>\n",
       "      <td>39</td>\n",
       "      <td>1</td>\n",
       "      <td>0.00</td>\n",
       "      <td>2</td>\n",
       "      <td>0</td>\n",
       "      <td>0</td>\n",
       "      <td>93826.63</td>\n",
       "      <td>0</td>\n",
       "    </tr>\n",
       "    <tr>\n",
       "      <th>4</th>\n",
       "      <td>5</td>\n",
       "      <td>15737888</td>\n",
       "      <td>Mitchell</td>\n",
       "      <td>850</td>\n",
       "      <td>Spain</td>\n",
       "      <td>Female</td>\n",
       "      <td>43</td>\n",
       "      <td>2</td>\n",
       "      <td>125510.82</td>\n",
       "      <td>1</td>\n",
       "      <td>1</td>\n",
       "      <td>1</td>\n",
       "      <td>79084.10</td>\n",
       "      <td>0</td>\n",
       "    </tr>\n",
       "  </tbody>\n",
       "</table>\n",
       "</div>"
      ],
      "text/plain": [
       "   RowNumber  CustomerId   Surname  CreditScore Geography  Gender  Age  \\\n",
       "0          1    15634602  Hargrave          619    France  Female   42   \n",
       "1          2    15647311      Hill          608     Spain  Female   41   \n",
       "2          3    15619304      Onio          502    France  Female   42   \n",
       "3          4    15701354      Boni          699    France  Female   39   \n",
       "4          5    15737888  Mitchell          850     Spain  Female   43   \n",
       "\n",
       "   Tenure    Balance  NumOfProducts  HasCrCard  IsActiveMember  \\\n",
       "0       2       0.00              1          1               1   \n",
       "1       1   83807.86              1          0               1   \n",
       "2       8  159660.80              3          1               0   \n",
       "3       1       0.00              2          0               0   \n",
       "4       2  125510.82              1          1               1   \n",
       "\n",
       "   EstimatedSalary  Exited  \n",
       "0        101348.88       1  \n",
       "1        112542.58       0  \n",
       "2        113931.57       1  \n",
       "3         93826.63       0  \n",
       "4         79084.10       0  "
      ]
     },
     "execution_count": 4,
     "metadata": {},
     "output_type": "execute_result"
    }
   ],
   "source": [
    "data.head()"
   ]
  },
  {
   "cell_type": "markdown",
   "metadata": {
    "id": "0s7akOt8L-WV"
   },
   "source": [
    "# Data preprocessing"
   ]
  },
  {
   "cell_type": "markdown",
   "metadata": {
    "id": "xdPV3pbDNdg3"
   },
   "source": [
    "### check there is any missing values"
   ]
  },
  {
   "cell_type": "code",
   "execution_count": 5,
   "metadata": {
    "colab": {
     "base_uri": "https://localhost:8080/",
     "height": 523
    },
    "executionInfo": {
     "elapsed": 13,
     "status": "ok",
     "timestamp": 1736168012851,
     "user": {
      "displayName": "chanupa deshan",
      "userId": "01182630527296795815"
     },
     "user_tz": -330
    },
    "id": "Ug6X6DNANE4L",
    "outputId": "b5b790db-367f-4bb4-8ed4-b173bdf74878"
   },
   "outputs": [
    {
     "data": {
      "text/plain": [
       "RowNumber          0\n",
       "CustomerId         0\n",
       "Surname            0\n",
       "CreditScore        0\n",
       "Geography          0\n",
       "Gender             0\n",
       "Age                0\n",
       "Tenure             0\n",
       "Balance            0\n",
       "NumOfProducts      0\n",
       "HasCrCard          0\n",
       "IsActiveMember     0\n",
       "EstimatedSalary    0\n",
       "Exited             0\n",
       "dtype: int64"
      ]
     },
     "execution_count": 5,
     "metadata": {},
     "output_type": "execute_result"
    }
   ],
   "source": [
    "data.isnull().sum()"
   ]
  },
  {
   "cell_type": "code",
   "execution_count": 6,
   "metadata": {
    "id": "3RXoGFXNKRIl"
   },
   "outputs": [],
   "source": [
    "X = data.iloc[:, 3:-1].values\n",
    "y = data.iloc[:, -1].values"
   ]
  },
  {
   "cell_type": "code",
   "execution_count": 42,
   "metadata": {},
   "outputs": [
    {
     "data": {
      "text/plain": [
       "array(['France', 'Spain', 'Germany'], dtype=object)"
      ]
     },
     "execution_count": 42,
     "metadata": {},
     "output_type": "execute_result"
    }
   ],
   "source": [
    "data['Geography'].unique()"
   ]
  },
  {
   "cell_type": "code",
   "execution_count": 37,
   "metadata": {},
   "outputs": [],
   "source": [
    "np.set_printoptions(threshold=np.inf) ## Set print options to display the full row\n"
   ]
  },
  {
   "cell_type": "code",
   "execution_count": null,
   "metadata": {},
   "outputs": [
    {
     "name": "stdout",
     "output_type": "stream",
     "text": [
      "[[619 'France' 'Female' ... 1 1 101348.88]\n",
      " [608 'Spain' 'Female' ... 0 1 112542.58]\n",
      " [502 'France' 'Female' ... 1 0 113931.57]\n",
      " ...\n",
      " [709 'France' 'Female' ... 0 1 42085.58]\n",
      " [772 'Germany' 'Male' ... 1 0 92888.52]\n",
      " [792 'France' 'Female' ... 1 0 38190.78]]\n"
     ]
    }
   ],
   "source": [
    "print(X)"
   ]
  },
  {
   "cell_type": "markdown",
   "metadata": {
    "id": "SHBIrqP4NoQr"
   },
   "source": [
    "# Encording categorical Data"
   ]
  },
  {
   "cell_type": "code",
   "execution_count": 9,
   "metadata": {
    "id": "tc4LV0iTMtXO"
   },
   "outputs": [],
   "source": [
    "from sklearn.preprocessing import LabelEncoder\n",
    "le = LabelEncoder()\n",
    "X[:, 2] = le.fit_transform(X[:, 2])"
   ]
  },
  {
   "cell_type": "code",
   "execution_count": 10,
   "metadata": {
    "colab": {
     "base_uri": "https://localhost:8080/"
    },
    "executionInfo": {
     "elapsed": 9,
     "status": "ok",
     "timestamp": 1736168012851,
     "user": {
      "displayName": "chanupa deshan",
      "userId": "01182630527296795815"
     },
     "user_tz": -330
    },
    "id": "TzJVgWlFOSEu",
    "outputId": "26c60640-d722-46fc-c8ca-ef4e34be4b52"
   },
   "outputs": [
    {
     "name": "stdout",
     "output_type": "stream",
     "text": [
      "[[619 'France' 0 ... 1 1 101348.88]\n",
      " [608 'Spain' 0 ... 0 1 112542.58]\n",
      " [502 'France' 0 ... 1 0 113931.57]\n",
      " ...\n",
      " [709 'France' 0 ... 0 1 42085.58]\n",
      " [772 'Germany' 1 ... 1 0 92888.52]\n",
      " [792 'France' 0 ... 1 0 38190.78]]\n"
     ]
    }
   ],
   "source": [
    "print(X)"
   ]
  },
  {
   "cell_type": "markdown",
   "metadata": {
    "id": "4js8tKpwOY1Z"
   },
   "source": [
    "# One Hot Encording"
   ]
  },
  {
   "cell_type": "code",
   "execution_count": 11,
   "metadata": {
    "id": "RkzKAvK5OTOG"
   },
   "outputs": [],
   "source": [
    "from sklearn.compose import ColumnTransformer\n",
    "from sklearn.preprocessing import OneHotEncoder\n",
    "ct = ColumnTransformer(transformers=[('encoder', OneHotEncoder(), [1])], remainder='passthrough')\n",
    "X = np.array(ct.fit_transform(X))"
   ]
  },
  {
   "cell_type": "code",
   "execution_count": 12,
   "metadata": {
    "colab": {
     "base_uri": "https://localhost:8080/"
    },
    "executionInfo": {
     "elapsed": 7,
     "status": "ok",
     "timestamp": 1736168012851,
     "user": {
      "displayName": "chanupa deshan",
      "userId": "01182630527296795815"
     },
     "user_tz": -330
    },
    "id": "UIHtvYKgPDc2",
    "outputId": "5e779310-cc23-4d53-cd83-4d81ff1c6ac5"
   },
   "outputs": [
    {
     "name": "stdout",
     "output_type": "stream",
     "text": [
      "[[1.0 0.0 0.0 ... 1 1 101348.88]\n",
      " [0.0 0.0 1.0 ... 0 1 112542.58]\n",
      " [1.0 0.0 0.0 ... 1 0 113931.57]\n",
      " ...\n",
      " [1.0 0.0 0.0 ... 0 1 42085.58]\n",
      " [0.0 1.0 0.0 ... 1 0 92888.52]\n",
      " [1.0 0.0 0.0 ... 1 0 38190.78]]\n"
     ]
    }
   ],
   "source": [
    "print(X)"
   ]
  },
  {
   "cell_type": "markdown",
   "metadata": {},
   "source": [
    "## Make balance dataset"
   ]
  },
  {
   "cell_type": "code",
   "execution_count": 13,
   "metadata": {},
   "outputs": [
    {
     "data": {
      "text/plain": [
       "0    7963\n",
       "1    2037\n",
       "Name: count, dtype: int64"
      ]
     },
     "execution_count": 13,
     "metadata": {},
     "output_type": "execute_result"
    }
   ],
   "source": [
    "pd.Series(y).value_counts()"
   ]
  },
  {
   "cell_type": "code",
   "execution_count": 14,
   "metadata": {},
   "outputs": [],
   "source": [
    "from imblearn.over_sampling import SMOTE\n",
    "smote = SMOTE(sampling_strategy='auto')"
   ]
  },
  {
   "cell_type": "code",
   "execution_count": 15,
   "metadata": {},
   "outputs": [],
   "source": [
    "X,y = smote.fit_resample(X,y)"
   ]
  },
  {
   "cell_type": "code",
   "execution_count": 16,
   "metadata": {},
   "outputs": [
    {
     "data": {
      "text/plain": [
       "1    7963\n",
       "0    7963\n",
       "Name: count, dtype: int64"
      ]
     },
     "execution_count": 16,
     "metadata": {},
     "output_type": "execute_result"
    }
   ],
   "source": [
    "pd.Series(y).value_counts()"
   ]
  },
  {
   "cell_type": "markdown",
   "metadata": {
    "id": "DmVuU3TcRMjH"
   },
   "source": [
    "# Train Test Split"
   ]
  },
  {
   "cell_type": "code",
   "execution_count": 17,
   "metadata": {
    "id": "ponIfs5KQdHW"
   },
   "outputs": [],
   "source": [
    "from sklearn.model_selection import train_test_split\n",
    "X_train, X_test, y_train, y_test = train_test_split(X, y, test_size = 0.2, random_state = 0)"
   ]
  },
  {
   "cell_type": "markdown",
   "metadata": {
    "id": "RWy3DnQySo7r"
   },
   "source": [
    "# Feature Scalling"
   ]
  },
  {
   "cell_type": "code",
   "execution_count": 18,
   "metadata": {
    "id": "dmBC0hXdRZ5G"
   },
   "outputs": [],
   "source": [
    "from sklearn.preprocessing import StandardScaler\n",
    "sc = StandardScaler()\n",
    "X_train = sc.fit_transform(X_train)\n",
    "X_test = sc.transform(X_test)"
   ]
  },
  {
   "cell_type": "markdown",
   "metadata": {
    "id": "uVH9lhbwSnu3"
   },
   "source": [
    " the StandardScaler is used to bring all features to a common scale"
   ]
  },
  {
   "cell_type": "markdown",
   "metadata": {
    "id": "P7Z6iKyfS8wu"
   },
   "source": [
    "# Build the ANN"
   ]
  },
  {
   "cell_type": "code",
   "execution_count": 19,
   "metadata": {
    "id": "5aOEoXUTR0SF"
   },
   "outputs": [],
   "source": [
    "ann = tf.keras.models.Sequential()"
   ]
  },
  {
   "cell_type": "code",
   "execution_count": 20,
   "metadata": {},
   "outputs": [],
   "source": [
    "from tensorflow.keras.regularizers import l2\n",
    "from tensorflow.keras.layers import Dense\n",
    "from tensorflow.keras.layers import Dropout\n",
    "from tensorflow.keras.layers import BatchNormalization"
   ]
  },
  {
   "cell_type": "markdown",
   "metadata": {},
   "source": [
    "Add the input layer and the first hidden layer"
   ]
  },
  {
   "cell_type": "code",
   "execution_count": 21,
   "metadata": {
    "id": "L0WnFADkT3-0"
   },
   "outputs": [],
   "source": [
    "ann.add(Dense(256 , activation='relu',kernel_regularizer=l2(0.01)))\n",
    "ann.add(BatchNormalization())\n",
    "ann.add(Dropout(0.2))   "
   ]
  },
  {
   "cell_type": "markdown",
   "metadata": {
    "id": "DXwv1qMlWZtE"
   },
   "source": [
    "Add the second sencond hidden layer"
   ]
  },
  {
   "cell_type": "code",
   "execution_count": 22,
   "metadata": {},
   "outputs": [],
   "source": [
    "ann.add(Dense(256 , activation='relu',kernel_regularizer=l2(0.01)))\n",
    "ann.add(BatchNormalization())\n",
    "ann.add(Dropout(0.2))"
   ]
  },
  {
   "cell_type": "markdown",
   "metadata": {
    "id": "NgxXfw1ZWig3"
   },
   "source": [
    "Add output layer"
   ]
  },
  {
   "cell_type": "code",
   "execution_count": 23,
   "metadata": {
    "id": "a-nJzQ_cWh3U"
   },
   "outputs": [],
   "source": [
    "ann.add(tf.keras.layers.Dense(units=1 , activation='sigmoid'))"
   ]
  },
  {
   "cell_type": "markdown",
   "metadata": {
    "id": "_2wSPNazWt4m"
   },
   "source": [
    "# Train the ANN"
   ]
  },
  {
   "cell_type": "code",
   "execution_count": 24,
   "metadata": {},
   "outputs": [],
   "source": [
    "from tensorflow.keras.optimizers import Adam\n",
    "learning_rate = 0.0001"
   ]
  },
  {
   "cell_type": "code",
   "execution_count": 25,
   "metadata": {
    "id": "saDt59eCWrV0"
   },
   "outputs": [],
   "source": [
    "ann.compile(optimizer = Adam(learning_rate=learning_rate), loss = 'binary_crossentropy', metrics = ['accuracy'])"
   ]
  },
  {
   "cell_type": "code",
   "execution_count": 26,
   "metadata": {},
   "outputs": [],
   "source": [
    "from tensorflow.keras.callbacks import EarlyStopping\n",
    "earlystopping = EarlyStopping(monitor='val_loss', patience=10, verbose=1, mode='min')"
   ]
  },
  {
   "cell_type": "code",
   "execution_count": 27,
   "metadata": {
    "colab": {
     "base_uri": "https://localhost:8080/"
    },
    "executionInfo": {
     "elapsed": 73063,
     "status": "ok",
     "timestamp": 1736168091051,
     "user": {
      "displayName": "chanupa deshan",
      "userId": "01182630527296795815"
     },
     "user_tz": -330
    },
    "id": "GLEtSDhcb2B6",
    "outputId": "84aa8679-2c16-44d5-b927-3547afc837b0"
   },
   "outputs": [
    {
     "name": "stdout",
     "output_type": "stream",
     "text": [
      "Epoch 1/150\n",
      "399/399 [==============================] - 4s 4ms/step - loss: 3.1247 - accuracy: 0.6844 - val_loss: 2.6789 - val_accuracy: 0.7994\n",
      "Epoch 2/150\n",
      "399/399 [==============================] - 2s 4ms/step - loss: 2.5115 - accuracy: 0.7630 - val_loss: 2.2140 - val_accuracy: 0.8189\n",
      "Epoch 3/150\n",
      "399/399 [==============================] - 2s 4ms/step - loss: 2.1321 - accuracy: 0.7819 - val_loss: 1.9065 - val_accuracy: 0.8233\n",
      "Epoch 4/150\n",
      "399/399 [==============================] - 1s 4ms/step - loss: 1.8572 - accuracy: 0.7957 - val_loss: 1.6709 - val_accuracy: 0.8271\n",
      "Epoch 5/150\n",
      "399/399 [==============================] - 1s 4ms/step - loss: 1.6381 - accuracy: 0.8024 - val_loss: 1.4902 - val_accuracy: 0.8308\n",
      "Epoch 6/150\n",
      "399/399 [==============================] - 1s 4ms/step - loss: 1.4743 - accuracy: 0.8061 - val_loss: 1.3394 - val_accuracy: 0.8374\n",
      "Epoch 7/150\n",
      "399/399 [==============================] - 2s 4ms/step - loss: 1.3330 - accuracy: 0.8153 - val_loss: 1.2130 - val_accuracy: 0.8399\n",
      "Epoch 8/150\n",
      "399/399 [==============================] - 2s 4ms/step - loss: 1.2154 - accuracy: 0.8182 - val_loss: 1.1165 - val_accuracy: 0.8387\n",
      "Epoch 9/150\n",
      "399/399 [==============================] - 2s 5ms/step - loss: 1.1152 - accuracy: 0.8239 - val_loss: 1.0191 - val_accuracy: 0.8418\n",
      "Epoch 10/150\n",
      "399/399 [==============================] - 2s 4ms/step - loss: 1.0377 - accuracy: 0.8211 - val_loss: 0.9499 - val_accuracy: 0.8490\n",
      "Epoch 11/150\n",
      "399/399 [==============================] - 2s 4ms/step - loss: 0.9662 - accuracy: 0.8271 - val_loss: 0.8857 - val_accuracy: 0.8462\n",
      "Epoch 12/150\n",
      "399/399 [==============================] - 2s 4ms/step - loss: 0.8969 - accuracy: 0.8347 - val_loss: 0.8339 - val_accuracy: 0.8459\n",
      "Epoch 13/150\n",
      "399/399 [==============================] - 2s 4ms/step - loss: 0.8486 - accuracy: 0.8334 - val_loss: 0.7778 - val_accuracy: 0.8512\n",
      "Epoch 14/150\n",
      "399/399 [==============================] - 1s 4ms/step - loss: 0.8023 - accuracy: 0.8376 - val_loss: 0.7443 - val_accuracy: 0.8471\n",
      "Epoch 15/150\n",
      "399/399 [==============================] - 2s 4ms/step - loss: 0.7613 - accuracy: 0.8318 - val_loss: 0.7027 - val_accuracy: 0.8503\n",
      "Epoch 16/150\n",
      "399/399 [==============================] - 2s 4ms/step - loss: 0.7258 - accuracy: 0.8415 - val_loss: 0.6693 - val_accuracy: 0.8562\n",
      "Epoch 17/150\n",
      "399/399 [==============================] - 2s 4ms/step - loss: 0.6940 - accuracy: 0.8395 - val_loss: 0.6375 - val_accuracy: 0.8562\n",
      "Epoch 18/150\n",
      "399/399 [==============================] - 2s 4ms/step - loss: 0.6636 - accuracy: 0.8398 - val_loss: 0.6110 - val_accuracy: 0.8572\n",
      "Epoch 19/150\n",
      "399/399 [==============================] - 2s 4ms/step - loss: 0.6364 - accuracy: 0.8407 - val_loss: 0.5908 - val_accuracy: 0.8584\n",
      "Epoch 20/150\n",
      "399/399 [==============================] - 1s 4ms/step - loss: 0.6144 - accuracy: 0.8439 - val_loss: 0.5707 - val_accuracy: 0.8550\n",
      "Epoch 21/150\n",
      "399/399 [==============================] - 2s 4ms/step - loss: 0.5919 - accuracy: 0.8492 - val_loss: 0.5447 - val_accuracy: 0.8616\n",
      "Epoch 22/150\n",
      "399/399 [==============================] - 2s 4ms/step - loss: 0.5742 - accuracy: 0.8495 - val_loss: 0.5371 - val_accuracy: 0.8556\n",
      "Epoch 23/150\n",
      "399/399 [==============================] - 2s 4ms/step - loss: 0.5564 - accuracy: 0.8510 - val_loss: 0.5163 - val_accuracy: 0.8572\n",
      "Epoch 24/150\n",
      "399/399 [==============================] - 2s 4ms/step - loss: 0.5350 - accuracy: 0.8495 - val_loss: 0.4974 - val_accuracy: 0.8635\n",
      "Epoch 25/150\n",
      "399/399 [==============================] - 2s 4ms/step - loss: 0.5209 - accuracy: 0.8529 - val_loss: 0.4950 - val_accuracy: 0.8556\n",
      "Epoch 26/150\n",
      "399/399 [==============================] - 2s 4ms/step - loss: 0.5124 - accuracy: 0.8553 - val_loss: 0.4853 - val_accuracy: 0.8534\n",
      "Epoch 27/150\n",
      "399/399 [==============================] - 2s 4ms/step - loss: 0.5025 - accuracy: 0.8509 - val_loss: 0.4708 - val_accuracy: 0.8584\n",
      "Epoch 28/150\n",
      "399/399 [==============================] - 2s 4ms/step - loss: 0.4860 - accuracy: 0.8532 - val_loss: 0.4597 - val_accuracy: 0.8594\n",
      "Epoch 29/150\n",
      "399/399 [==============================] - 2s 4ms/step - loss: 0.4763 - accuracy: 0.8542 - val_loss: 0.4447 - val_accuracy: 0.8625\n",
      "Epoch 30/150\n",
      "399/399 [==============================] - 2s 4ms/step - loss: 0.4624 - accuracy: 0.8566 - val_loss: 0.4415 - val_accuracy: 0.8606\n",
      "Epoch 31/150\n",
      "399/399 [==============================] - 2s 4ms/step - loss: 0.4533 - accuracy: 0.8579 - val_loss: 0.4313 - val_accuracy: 0.8669\n",
      "Epoch 32/150\n",
      "399/399 [==============================] - 2s 4ms/step - loss: 0.4503 - accuracy: 0.8593 - val_loss: 0.4246 - val_accuracy: 0.8669\n",
      "Epoch 33/150\n",
      "399/399 [==============================] - 2s 4ms/step - loss: 0.4407 - accuracy: 0.8602 - val_loss: 0.4183 - val_accuracy: 0.8660\n",
      "Epoch 34/150\n",
      "399/399 [==============================] - 2s 4ms/step - loss: 0.4346 - accuracy: 0.8579 - val_loss: 0.4070 - val_accuracy: 0.8682\n",
      "Epoch 35/150\n",
      "399/399 [==============================] - 2s 4ms/step - loss: 0.4242 - accuracy: 0.8600 - val_loss: 0.4079 - val_accuracy: 0.8666\n",
      "Epoch 36/150\n",
      "399/399 [==============================] - 2s 4ms/step - loss: 0.4223 - accuracy: 0.8603 - val_loss: 0.4004 - val_accuracy: 0.8650\n",
      "Epoch 37/150\n",
      "399/399 [==============================] - 2s 4ms/step - loss: 0.4131 - accuracy: 0.8642 - val_loss: 0.3939 - val_accuracy: 0.8688\n",
      "Epoch 38/150\n",
      "399/399 [==============================] - 2s 4ms/step - loss: 0.4083 - accuracy: 0.8639 - val_loss: 0.3911 - val_accuracy: 0.8669\n",
      "Epoch 39/150\n",
      "399/399 [==============================] - 2s 4ms/step - loss: 0.4021 - accuracy: 0.8681 - val_loss: 0.3910 - val_accuracy: 0.8719\n",
      "Epoch 40/150\n",
      "399/399 [==============================] - 2s 5ms/step - loss: 0.3935 - accuracy: 0.8678 - val_loss: 0.3816 - val_accuracy: 0.8779\n",
      "Epoch 41/150\n",
      "399/399 [==============================] - 2s 4ms/step - loss: 0.3938 - accuracy: 0.8651 - val_loss: 0.3785 - val_accuracy: 0.8635\n",
      "Epoch 42/150\n",
      "399/399 [==============================] - 2s 4ms/step - loss: 0.3894 - accuracy: 0.8665 - val_loss: 0.3800 - val_accuracy: 0.8694\n",
      "Epoch 43/150\n",
      "399/399 [==============================] - 2s 4ms/step - loss: 0.3852 - accuracy: 0.8671 - val_loss: 0.3702 - val_accuracy: 0.8735\n",
      "Epoch 44/150\n",
      "399/399 [==============================] - 2s 4ms/step - loss: 0.3792 - accuracy: 0.8722 - val_loss: 0.3776 - val_accuracy: 0.8691\n",
      "Epoch 45/150\n",
      "399/399 [==============================] - 2s 4ms/step - loss: 0.3750 - accuracy: 0.8709 - val_loss: 0.3643 - val_accuracy: 0.8751\n",
      "Epoch 46/150\n",
      "399/399 [==============================] - 2s 4ms/step - loss: 0.3751 - accuracy: 0.8724 - val_loss: 0.3683 - val_accuracy: 0.8751\n",
      "Epoch 47/150\n",
      "399/399 [==============================] - 2s 4ms/step - loss: 0.3708 - accuracy: 0.8729 - val_loss: 0.3652 - val_accuracy: 0.8738\n",
      "Epoch 48/150\n",
      "399/399 [==============================] - 2s 4ms/step - loss: 0.3658 - accuracy: 0.8703 - val_loss: 0.3613 - val_accuracy: 0.8770\n",
      "Epoch 49/150\n",
      "399/399 [==============================] - 2s 4ms/step - loss: 0.3586 - accuracy: 0.8749 - val_loss: 0.3557 - val_accuracy: 0.8719\n",
      "Epoch 50/150\n",
      "399/399 [==============================] - 2s 4ms/step - loss: 0.3669 - accuracy: 0.8721 - val_loss: 0.3515 - val_accuracy: 0.8723\n",
      "Epoch 51/150\n",
      "399/399 [==============================] - 2s 4ms/step - loss: 0.3521 - accuracy: 0.8785 - val_loss: 0.3531 - val_accuracy: 0.8745\n",
      "Epoch 52/150\n",
      "399/399 [==============================] - 2s 4ms/step - loss: 0.3513 - accuracy: 0.8781 - val_loss: 0.3544 - val_accuracy: 0.8732\n",
      "Epoch 53/150\n",
      "399/399 [==============================] - 2s 4ms/step - loss: 0.3485 - accuracy: 0.8768 - val_loss: 0.3452 - val_accuracy: 0.8785\n",
      "Epoch 54/150\n",
      "399/399 [==============================] - 2s 4ms/step - loss: 0.3522 - accuracy: 0.8768 - val_loss: 0.3559 - val_accuracy: 0.8663\n",
      "Epoch 55/150\n",
      "399/399 [==============================] - 2s 4ms/step - loss: 0.3469 - accuracy: 0.8774 - val_loss: 0.3569 - val_accuracy: 0.8701\n",
      "Epoch 56/150\n",
      "399/399 [==============================] - 2s 4ms/step - loss: 0.3457 - accuracy: 0.8785 - val_loss: 0.3504 - val_accuracy: 0.8697\n",
      "Epoch 57/150\n",
      "399/399 [==============================] - 2s 4ms/step - loss: 0.3434 - accuracy: 0.8777 - val_loss: 0.3453 - val_accuracy: 0.8795\n",
      "Epoch 58/150\n",
      "399/399 [==============================] - 2s 4ms/step - loss: 0.3385 - accuracy: 0.8803 - val_loss: 0.3389 - val_accuracy: 0.8801\n",
      "Epoch 59/150\n",
      "399/399 [==============================] - 2s 4ms/step - loss: 0.3396 - accuracy: 0.8805 - val_loss: 0.3450 - val_accuracy: 0.8729\n",
      "Epoch 60/150\n",
      "399/399 [==============================] - 2s 4ms/step - loss: 0.3328 - accuracy: 0.8815 - val_loss: 0.3458 - val_accuracy: 0.8751\n",
      "Epoch 61/150\n",
      "399/399 [==============================] - 2s 4ms/step - loss: 0.3379 - accuracy: 0.8772 - val_loss: 0.3402 - val_accuracy: 0.8785\n",
      "Epoch 62/150\n",
      "399/399 [==============================] - 2s 4ms/step - loss: 0.3400 - accuracy: 0.8764 - val_loss: 0.3460 - val_accuracy: 0.8801\n",
      "Epoch 63/150\n",
      "399/399 [==============================] - 2s 4ms/step - loss: 0.3329 - accuracy: 0.8801 - val_loss: 0.3374 - val_accuracy: 0.8798\n",
      "Epoch 64/150\n",
      "399/399 [==============================] - 2s 4ms/step - loss: 0.3280 - accuracy: 0.8839 - val_loss: 0.3358 - val_accuracy: 0.8836\n",
      "Epoch 65/150\n",
      "399/399 [==============================] - 2s 4ms/step - loss: 0.3320 - accuracy: 0.8792 - val_loss: 0.3340 - val_accuracy: 0.8785\n",
      "Epoch 66/150\n",
      "399/399 [==============================] - 2s 4ms/step - loss: 0.3192 - accuracy: 0.8870 - val_loss: 0.3335 - val_accuracy: 0.8776\n",
      "Epoch 67/150\n",
      "399/399 [==============================] - 2s 4ms/step - loss: 0.3262 - accuracy: 0.8850 - val_loss: 0.3378 - val_accuracy: 0.8757\n",
      "Epoch 68/150\n",
      "399/399 [==============================] - 2s 4ms/step - loss: 0.3230 - accuracy: 0.8867 - val_loss: 0.3414 - val_accuracy: 0.8801\n",
      "Epoch 69/150\n",
      "399/399 [==============================] - 2s 4ms/step - loss: 0.3264 - accuracy: 0.8807 - val_loss: 0.3368 - val_accuracy: 0.8826\n",
      "Epoch 70/150\n",
      "399/399 [==============================] - 2s 4ms/step - loss: 0.3253 - accuracy: 0.8810 - val_loss: 0.3432 - val_accuracy: 0.8754\n",
      "Epoch 71/150\n",
      "399/399 [==============================] - 2s 4ms/step - loss: 0.3208 - accuracy: 0.8832 - val_loss: 0.3227 - val_accuracy: 0.8801\n",
      "Epoch 72/150\n",
      "399/399 [==============================] - 2s 4ms/step - loss: 0.3178 - accuracy: 0.8853 - val_loss: 0.3272 - val_accuracy: 0.8848\n",
      "Epoch 73/150\n",
      "399/399 [==============================] - 2s 4ms/step - loss: 0.3172 - accuracy: 0.8860 - val_loss: 0.3289 - val_accuracy: 0.8848\n",
      "Epoch 74/150\n",
      "399/399 [==============================] - 2s 4ms/step - loss: 0.3182 - accuracy: 0.8848 - val_loss: 0.3308 - val_accuracy: 0.8814\n",
      "Epoch 75/150\n",
      "399/399 [==============================] - 2s 4ms/step - loss: 0.3170 - accuracy: 0.8863 - val_loss: 0.3281 - val_accuracy: 0.8798\n",
      "Epoch 76/150\n",
      "399/399 [==============================] - 2s 4ms/step - loss: 0.3125 - accuracy: 0.8866 - val_loss: 0.3289 - val_accuracy: 0.8795\n",
      "Epoch 77/150\n",
      "399/399 [==============================] - 2s 4ms/step - loss: 0.3167 - accuracy: 0.8852 - val_loss: 0.3281 - val_accuracy: 0.8817\n",
      "Epoch 78/150\n",
      "399/399 [==============================] - 2s 4ms/step - loss: 0.3073 - accuracy: 0.8889 - val_loss: 0.3379 - val_accuracy: 0.8707\n",
      "Epoch 79/150\n",
      "399/399 [==============================] - 2s 4ms/step - loss: 0.3110 - accuracy: 0.8875 - val_loss: 0.3217 - val_accuracy: 0.8848\n",
      "Epoch 80/150\n",
      "399/399 [==============================] - 2s 4ms/step - loss: 0.3050 - accuracy: 0.8875 - val_loss: 0.3266 - val_accuracy: 0.8804\n",
      "Epoch 81/150\n",
      "399/399 [==============================] - 2s 4ms/step - loss: 0.3060 - accuracy: 0.8880 - val_loss: 0.3222 - val_accuracy: 0.8864\n",
      "Epoch 82/150\n",
      "399/399 [==============================] - 2s 5ms/step - loss: 0.3060 - accuracy: 0.8877 - val_loss: 0.3262 - val_accuracy: 0.8804\n",
      "Epoch 83/150\n",
      "399/399 [==============================] - 2s 4ms/step - loss: 0.3068 - accuracy: 0.8898 - val_loss: 0.3275 - val_accuracy: 0.8788\n",
      "Epoch 84/150\n",
      "399/399 [==============================] - 2s 5ms/step - loss: 0.3106 - accuracy: 0.8852 - val_loss: 0.3176 - val_accuracy: 0.8879\n",
      "Epoch 85/150\n",
      "399/399 [==============================] - 2s 4ms/step - loss: 0.3069 - accuracy: 0.8901 - val_loss: 0.3235 - val_accuracy: 0.8858\n",
      "Epoch 86/150\n",
      "399/399 [==============================] - 2s 4ms/step - loss: 0.2965 - accuracy: 0.8939 - val_loss: 0.3094 - val_accuracy: 0.8870\n",
      "Epoch 87/150\n",
      "399/399 [==============================] - 2s 4ms/step - loss: 0.3011 - accuracy: 0.8918 - val_loss: 0.3269 - val_accuracy: 0.8801\n",
      "Epoch 88/150\n",
      "399/399 [==============================] - 2s 4ms/step - loss: 0.3094 - accuracy: 0.8856 - val_loss: 0.3189 - val_accuracy: 0.8810\n",
      "Epoch 89/150\n",
      "399/399 [==============================] - 2s 4ms/step - loss: 0.2969 - accuracy: 0.8944 - val_loss: 0.3208 - val_accuracy: 0.8864\n",
      "Epoch 90/150\n",
      "399/399 [==============================] - 2s 4ms/step - loss: 0.2996 - accuracy: 0.8914 - val_loss: 0.3091 - val_accuracy: 0.8889\n",
      "Epoch 91/150\n",
      "399/399 [==============================] - 2s 4ms/step - loss: 0.2970 - accuracy: 0.8911 - val_loss: 0.3131 - val_accuracy: 0.8858\n",
      "Epoch 92/150\n",
      "399/399 [==============================] - 2s 4ms/step - loss: 0.3010 - accuracy: 0.8885 - val_loss: 0.3219 - val_accuracy: 0.8814\n",
      "Epoch 93/150\n",
      "399/399 [==============================] - 2s 4ms/step - loss: 0.2950 - accuracy: 0.8970 - val_loss: 0.3174 - val_accuracy: 0.8832\n",
      "Epoch 94/150\n",
      "399/399 [==============================] - 2s 4ms/step - loss: 0.2943 - accuracy: 0.8947 - val_loss: 0.3150 - val_accuracy: 0.8854\n",
      "Epoch 95/150\n",
      "399/399 [==============================] - 2s 4ms/step - loss: 0.2991 - accuracy: 0.8910 - val_loss: 0.3296 - val_accuracy: 0.8807\n",
      "Epoch 96/150\n",
      "399/399 [==============================] - 2s 4ms/step - loss: 0.2932 - accuracy: 0.8930 - val_loss: 0.3223 - val_accuracy: 0.8848\n",
      "Epoch 97/150\n",
      "399/399 [==============================] - 2s 4ms/step - loss: 0.2997 - accuracy: 0.8901 - val_loss: 0.3157 - val_accuracy: 0.8864\n",
      "Epoch 98/150\n",
      "399/399 [==============================] - 2s 4ms/step - loss: 0.2927 - accuracy: 0.8932 - val_loss: 0.3238 - val_accuracy: 0.8823\n",
      "Epoch 99/150\n",
      "399/399 [==============================] - 2s 5ms/step - loss: 0.2927 - accuracy: 0.8938 - val_loss: 0.3150 - val_accuracy: 0.8876\n",
      "Epoch 100/150\n",
      "399/399 [==============================] - 2s 4ms/step - loss: 0.2923 - accuracy: 0.8923 - val_loss: 0.3235 - val_accuracy: 0.8839\n",
      "Epoch 100: early stopping\n"
     ]
    },
    {
     "data": {
      "text/plain": [
       "<keras.callbacks.History at 0x164801d7760>"
      ]
     },
     "execution_count": 27,
     "metadata": {},
     "output_type": "execute_result"
    }
   ],
   "source": [
    "ann.fit(X_train, y_train,\n",
    "        validation_data=(X_test, y_test),\n",
    "        batch_size = 32, epochs = 150,\n",
    "        callbacks=[earlystopping])"
   ]
  },
  {
   "cell_type": "markdown",
   "metadata": {
    "id": "R-pCPeisd2_v"
   },
   "source": [
    "Let's say you have 10,000 samples and a batch size of 32:\n",
    "\n",
    "*   For the first 32 samples, the model processes them and adjusts its weights.\n",
    "\n",
    "*   Then it processes the next 32 samples, adjusts the weights again, and so on, until it has processed the entire 10,000 samples.\n",
    "\n",
    "\n",
    "\n",
    "\n",
    "100 epochs means the model will go through the entire dataset 100 times in total.\n",
    "\n",
    "\n"
   ]
  },
  {
   "cell_type": "markdown",
   "metadata": {
    "id": "vw4_HpJUfUTu"
   },
   "source": [
    "# Test the model"
   ]
  },
  {
   "cell_type": "markdown",
   "metadata": {
    "id": "VxuT2hDWfTNn"
   },
   "source": [
    "Use our ANN model to predict if the customer with the following informations will leave the bank:\n",
    "\n",
    "Geography: France\n",
    "\n",
    "Credit Score: 600\n",
    "\n",
    "Gender: Male\n",
    "\n",
    "Age: 40 years old\n",
    "\n",
    "Tenure: 3 years\n",
    "\n",
    "Balance: \\$ 60000\n",
    "\n",
    "Number of Products: 2\n",
    "\n",
    "Does this customer have a credit card? Yes\n",
    "\n",
    "Is this customer an Active Member: Yes\n",
    "\n",
    "Estimated Salary: \\$ 50000\n",
    "\n",
    "So, should we say goodbye to that customer?"
   ]
  },
  {
   "cell_type": "code",
   "execution_count": 28,
   "metadata": {
    "colab": {
     "base_uri": "https://localhost:8080/"
    },
    "executionInfo": {
     "elapsed": 86,
     "status": "ok",
     "timestamp": 1736168091052,
     "user": {
      "displayName": "chanupa deshan",
      "userId": "01182630527296795815"
     },
     "user_tz": -330
    },
    "id": "hnDuT-54cOCk",
    "outputId": "4b6cc94d-2423-4d9b-cf53-a754f4d2d046"
   },
   "outputs": [
    {
     "name": "stdout",
     "output_type": "stream",
     "text": [
      "1/1 [==============================] - 0s 96ms/step\n",
      "Customer will not leave the bank\n"
     ]
    }
   ],
   "source": [
    "predict = (ann.predict(sc.transform([[1, 0, 0, 600, 1, 40, 3, 60000, 2, 1, 1, 50000]])) > 0.5).astype(\"int32\")\n",
    "if predict == 1:\n",
    "    print(\"Customer will leave the bank\")\n",
    "else:\n",
    "    print(\"Customer will not leave the bank\")"
   ]
  },
  {
   "cell_type": "markdown",
   "metadata": {
    "id": "rcHTwJkGkH-m"
   },
   "source": [
    "Therefore, our ANN model predicts that this customer stays in the bank!\n"
   ]
  },
  {
   "cell_type": "markdown",
   "metadata": {
    "id": "bpXUNF8pmwCJ"
   },
   "source": [
    "# Prediction"
   ]
  },
  {
   "cell_type": "code",
   "execution_count": 29,
   "metadata": {
    "colab": {
     "base_uri": "https://localhost:8080/"
    },
    "executionInfo": {
     "elapsed": 53,
     "status": "ok",
     "timestamp": 1736168091052,
     "user": {
      "displayName": "chanupa deshan",
      "userId": "01182630527296795815"
     },
     "user_tz": -330
    },
    "id": "gXP5TmUHhRE7",
    "outputId": "c6a92cff-129f-4d93-d4d4-b2b81e9193e6"
   },
   "outputs": [
    {
     "name": "stdout",
     "output_type": "stream",
     "text": [
      "100/100 [==============================] - 0s 855us/step\n",
      "[[1 1]\n",
      " [1 1]\n",
      " [1 1]\n",
      " ...\n",
      " [0 0]\n",
      " [1 1]\n",
      " [0 0]]\n"
     ]
    }
   ],
   "source": [
    "y_pred = ann.predict(X_test)\n",
    "y_pred = (y_pred > 0.5)\n",
    "print(np.concatenate((y_pred.reshape(len(y_pred),1), y_test.reshape(len(y_test),1)),1))"
   ]
  },
  {
   "cell_type": "code",
   "execution_count": 30,
   "metadata": {
    "colab": {
     "base_uri": "https://localhost:8080/"
    },
    "executionInfo": {
     "elapsed": 996,
     "status": "ok",
     "timestamp": 1736168146481,
     "user": {
      "displayName": "chanupa deshan",
      "userId": "01182630527296795815"
     },
     "user_tz": -330
    },
    "id": "XQelxd3Lm5SK",
    "outputId": "7c3c7b6c-7806-4f45-c215-a6aa02b9722a"
   },
   "outputs": [
    {
     "name": "stdout",
     "output_type": "stream",
     "text": [
      "[[1448  142]\n",
      " [ 228 1368]]\n"
     ]
    },
    {
     "data": {
      "text/plain": [
       "0.8838669177652229"
      ]
     },
     "execution_count": 30,
     "metadata": {},
     "output_type": "execute_result"
    }
   ],
   "source": [
    "from sklearn.metrics import confusion_matrix, accuracy_score\n",
    "cm = confusion_matrix(y_test, y_pred)\n",
    "print(cm)\n",
    "accuracy_score(y_test, y_pred)"
   ]
  },
  {
   "cell_type": "code",
   "execution_count": 44,
   "metadata": {
    "id": "ZBhmwiOqnIlL"
   },
   "outputs": [],
   "source": [
    "ann.save('model.h5')\n",
    "    "
   ]
  },
  {
   "cell_type": "code",
   "execution_count": 45,
   "metadata": {},
   "outputs": [],
   "source": [
    "import pickle\n",
    "with open('scaler.pkl','wb') as file:\n",
    "    pickle.dump(sc,file)"
   ]
  },
  {
   "cell_type": "code",
   "execution_count": null,
   "metadata": {},
   "outputs": [],
   "source": []
  }
 ],
 "metadata": {
  "accelerator": "GPU",
  "colab": {
   "authorship_tag": "ABX9TyN0fTwVdO4gRPWwLrkxJ8Df",
   "gpuType": "T4",
   "mount_file_id": "1crK9Nm60b3Xh0NSo0KYgcqWWJtAvn4ya",
   "provenance": [],
   "toc_visible": true
  },
  "kernelspec": {
   "display_name": "tensorflow",
   "language": "python",
   "name": "python3"
  },
  "language_info": {
   "codemirror_mode": {
    "name": "ipython",
    "version": 3
   },
   "file_extension": ".py",
   "mimetype": "text/x-python",
   "name": "python",
   "nbconvert_exporter": "python",
   "pygments_lexer": "ipython3",
   "version": "3.10.16"
  }
 },
 "nbformat": 4,
 "nbformat_minor": 0
}
